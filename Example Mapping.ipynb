{
 "metadata": {
  "name": "",
  "signature": "sha256:c8d0f946bcade27370d865beafd30299818cd1a627c502e9967d7ac496394829"
 },
 "nbformat": 3,
 "nbformat_minor": 0,
 "worksheets": [
  {
   "cells": [
    {
     "cell_type": "code",
     "collapsed": false,
     "input": [
      "import os\n",
      "import json\n",
      "\n",
      "import networkx as nx\n",
      "print(\"NetworkX: {}\".format(nx.__version__))\n",
      "import numpy as np\n",
      "print(\"NumPy: {}\".format(np.__version__))\n",
      "import pandas as pd\n",
      "print(\"Pandas: {}\".format(pd.__version__))\n",
      "import matplotlib.pyplot as plt\n",
      "%matplotlib inline\n",
      "import matplotlib as mpl\n",
      "print(\"Matplotlib: {}\".format(mpl.__version__))\n",
      "import smopy\n",
      "print(\"Smopy: {}\".format(smopy.__version__))\n",
      "import folium\n",
      "print(\"Folium: {}\".format(folium.__version__))\n",
      "mpl.rcParams['figure.dpi'] = mpl.rcParams['savefig.dpi'] = 300\n",
      "from IPython.display import HTML"
     ],
     "language": "python",
     "metadata": {},
     "outputs": [
      {
       "output_type": "stream",
       "stream": "stdout",
       "text": [
        "NetworkX: 1.9.1\n",
        "NumPy: 1.9.1\n",
        "Pandas: 0.15.2"
       ]
      },
      {
       "output_type": "stream",
       "stream": "stdout",
       "text": [
        "\n",
        "Matplotlib: 1.4.2"
       ]
      },
      {
       "output_type": "stream",
       "stream": "stdout",
       "text": [
        "\n",
        "Smopy: 0.0.3\n",
        "Folium: 0.1.3"
       ]
      },
      {
       "output_type": "stream",
       "stream": "stdout",
       "text": [
        "\n"
       ]
      }
     ],
     "prompt_number": 1
    },
    {
     "cell_type": "code",
     "collapsed": false,
     "input": [
      "def inline_map(map):\n",
      "    \"\"\"\n",
      "    Embeds the HTML source of the map directly into the IPython notebook.\n",
      "    \n",
      "    This method will not work if the map depends on any files (json data). Also this uses\n",
      "    the HTML5 srcdoc attribute, which may not be supported in all browsers.\n",
      "    \"\"\"\n",
      "    map._build_map()\n",
      "    return HTML('<iframe srcdoc=\"{srcdoc}\" style=\"width: 100%; height: 510px; border: none\"></iframe>'.format(srcdoc=map.HTML.replace('\"', '&quot;')))"
     ],
     "language": "python",
     "metadata": {},
     "outputs": [],
     "prompt_number": 2
    },
    {
     "cell_type": "code",
     "collapsed": false,
     "input": [
      "ftp_road_url = \"ftp://ftp2.census.gov/geo/tiger/TIGER2014/ROADS/\"\n",
      "with open(\"getElements_dump_77098.json\") as fh:\n",
      "    data = json.loads(fh.read())"
     ],
     "language": "python",
     "metadata": {},
     "outputs": [],
     "prompt_number": 3
    },
    {
     "cell_type": "code",
     "collapsed": false,
     "input": [
      "g = nx.read_shp(\"tl_2014_48201_roads/data.shp\")"
     ],
     "language": "python",
     "metadata": {},
     "outputs": [],
     "prompt_number": 4
    },
    {
     "cell_type": "code",
     "collapsed": false,
     "input": [
      "sg = list(nx.connected_component_subgraphs(g.to_undirected()))[0]\n",
      "len(sg)"
     ],
     "language": "python",
     "metadata": {},
     "outputs": [
      {
       "metadata": {},
       "output_type": "pyout",
       "prompt_number": 5,
       "text": [
        "2"
       ]
      }
     ],
     "prompt_number": 5
    },
    {
     "cell_type": "code",
     "collapsed": false,
     "input": [
      "nx.draw(g)"
     ],
     "language": "python",
     "metadata": {},
     "outputs": []
    },
    {
     "cell_type": "code",
     "collapsed": false,
     "input": [
      "def filter_nodes(nodes, topright, botleft):\n",
      "    \"\"\"Coordinates in {lat,lon} dict format.\"\"\"\n",
      "    for x in nodes:\n",
      "        if ((topright['lat'] >= x['lat'] >= botleft['lat']) and\n",
      "            (topright['lon'] >= x['lon'] >= botleft['lon'])):\n",
      "            yield x\n",
      "TOPRIGHT = {'lat':29.746327, 'lon':-95.390126}\n",
      "BOTLEFT = {'lat':29.720117, 'lon':-95.420254}"
     ],
     "language": "python",
     "metadata": {},
     "outputs": [],
     "prompt_number": 29
    },
    {
     "cell_type": "code",
     "collapsed": false,
     "input": [
      "GREEN = 0\n",
      "BLUE = 1"
     ],
     "language": "python",
     "metadata": {},
     "outputs": [],
     "prompt_number": 33
    },
    {
     "cell_type": "code",
     "collapsed": false,
     "input": [
      "def get_portal_coords(json_object):\n",
      "    portals = []\n",
      "    for loc,val in data['result']['map'].items():\n",
      "        if 'gameEntities' not in val: continue\n",
      "        for portal_raw in val['gameEntities']:\n",
      "            tmp = {}\n",
      "            try: \n",
      "                src = portal_raw[2]\n",
      "            except:\n",
      "                continue\n",
      "            if 'type' not in src or src['type'] != 'portal':\n",
      "                continue\n",
      "            tmp['level'] = src['level']\n",
      "            tmp['resonators'] = src['resCount']\n",
      "            tmp['team'] = GREEN if src['team']=='ENLIGHTENED' else BLUE\n",
      "            tmp['lat'] = src['latE6'] / 10**6\n",
      "            tmp['lon'] = src['lngE6'] / 10**6\n",
      "            tmp['name'] = src['title']\n",
      "            tmp['img'] = src['image']\n",
      "            portals.append(tmp)\n",
      "    return portals\n",
      "tmp = get_portal_coords(data)\n",
      "print(tmp[0])"
     ],
     "language": "python",
     "metadata": {},
     "outputs": [
      {
       "output_type": "stream",
       "stream": "stdout",
       "text": [
        "{'resonators': 3, 'level': 3, 'lat': 29.738539, 'name': 'Moran Center', 'img': 'http://lh6.ggpht.com/0LnmfQtfYS3VS20LsmaiYgmO_ACKMj0iFzK_JI_I_PyQEgL1jP7JbMvs4bJxy0oxpR-mX--lH9BL6z8h_3U0Jg', 'lon': -95.394638, 'team': 0}\n"
       ]
      }
     ],
     "prompt_number": 48
    },
    {
     "cell_type": "code",
     "collapsed": false,
     "input": [
      "home = {'lat':29.738632, 'lon': -95.404546} # 29.738632, -95.404546\n",
      "map = folium.Map(location=[home['lat'], home['lon']], zoom_start=15)\n",
      "#map.simple_marker([home['lat'], home['lon']])\n",
      "for marker in filter_nodes(tmp, TOPRIGHT, BOTLEFT):\n",
      "    map.circle_marker([marker['lat'], marker['lon']]\n",
      "                      ,popup=\"{name}<br /><img src='{img}' alt='{name}' width=100></img>\".format(**marker)\n",
      "                      ,radius=marker['level']*3\n",
      "                      ,fill_color='#3186cc', line_color='#3186cc')\n",
      "for x in filter_nodes([{'lat': x[1], 'lon':x[0]} for x in g.nodes()], TOPRIGHT, BOTLEFT):\n",
      "    map.circle_marker([x['lat'], x['lon']], radius=10)\n",
      "inline_map(map)"
     ],
     "language": "python",
     "metadata": {},
     "outputs": []
    },
    {
     "cell_type": "code",
     "collapsed": false,
     "input": [],
     "language": "python",
     "metadata": {},
     "outputs": []
    }
   ],
   "metadata": {}
  }
 ]
}